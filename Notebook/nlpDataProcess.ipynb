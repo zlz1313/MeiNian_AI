{
 "cells": [
  {
   "cell_type": "code",
   "execution_count": 1,
   "metadata": {
    "collapsed": true
   },
   "outputs": [],
   "source": [
    "import numpy as np\n",
    "import pandas as pd\n",
    "import warnings\n",
    "from math import isnan\n",
    "import re\n",
    "\n",
    "warnings.filterwarnings(\"ignore\")"
   ]
  },
  {
   "cell_type": "code",
   "execution_count": 2,
   "metadata": {
    "collapsed": true
   },
   "outputs": [],
   "source": [
    "train = pd.read_csv('../Output/0504/train_data_tezheng1.csv', encoding='utf-8')\n",
    "test = pd.read_csv('../Output/0504/test_data_tezheng1.csv', encoding='utf-8')"
   ]
  },
  {
   "cell_type": "code",
   "execution_count": 3,
   "metadata": {},
   "outputs": [
    {
     "data": {
      "text/plain": [
       "(38199, 399)"
      ]
     },
     "execution_count": 3,
     "metadata": {},
     "output_type": "execute_result"
    }
   ],
   "source": [
    "train.shape"
   ]
  },
  {
   "cell_type": "code",
   "execution_count": 4,
   "metadata": {
    "collapsed": true
   },
   "outputs": [],
   "source": [
    "# 将训练集中指标为NAN的舍弃掉\n",
    "\n",
    "train = train[~train.收缩压.isnull()]\n",
    "train = train[~train.舒张压.isnull()]"
   ]
  },
  {
   "cell_type": "code",
   "execution_count": 5,
   "metadata": {
    "scrolled": true
   },
   "outputs": [
    {
     "data": {
      "text/plain": [
       "(38192, 399)"
      ]
     },
     "execution_count": 5,
     "metadata": {},
     "output_type": "execute_result"
    }
   ],
   "source": [
    "train.shape"
   ]
  },
  {
   "cell_type": "code",
   "execution_count": 6,
   "metadata": {
    "collapsed": true
   },
   "outputs": [],
   "source": [
    "num_cols = list(train.describe().columns[5:])   # 纯数字+NAN"
   ]
  },
  {
   "cell_type": "code",
   "execution_count": 12,
   "metadata": {},
   "outputs": [
    {
     "data": {
      "text/plain": [
       "['vid',\n",
       " '收缩压',\n",
       " '舒张压',\n",
       " '血清甘油三酯',\n",
       " '血清高密度脂蛋白',\n",
       " '血清低密度脂蛋白',\n",
       " '004997',\n",
       " '0104',\n",
       " '0125',\n",
       " '0130',\n",
       " '0131',\n",
       " '0218',\n",
       " '0424',\n",
       " '0437',\n",
       " '0438',\n",
       " '0439',\n",
       " '0441',\n",
       " '0449',\n",
       " '0732',\n",
       " '0986',\n",
       " '100005',\n",
       " '100006',\n",
       " '100007',\n",
       " '100012',\n",
       " '100013',\n",
       " '100014',\n",
       " '10002',\n",
       " '10003',\n",
       " '10004',\n",
       " '10009',\n",
       " '1104',\n",
       " '1106',\n",
       " '1107',\n",
       " '1110',\n",
       " '1112',\n",
       " '1115',\n",
       " '1117',\n",
       " '1124',\n",
       " '1125',\n",
       " '1127',\n",
       " '1319',\n",
       " '1320',\n",
       " '1321',\n",
       " '1322',\n",
       " '1325',\n",
       " '1326',\n",
       " '1331',\n",
       " '1334',\n",
       " '1345',\n",
       " '139',\n",
       " '143',\n",
       " '1474',\n",
       " '155',\n",
       " '1814',\n",
       " '1815',\n",
       " '183',\n",
       " '1840',\n",
       " '1844',\n",
       " '1845',\n",
       " '1850',\n",
       " '1873',\n",
       " '189',\n",
       " '190',\n",
       " '191',\n",
       " '192',\n",
       " '193',\n",
       " '20002',\n",
       " '2174',\n",
       " '2177',\n",
       " '2282',\n",
       " '2333',\n",
       " '2371',\n",
       " '2372',\n",
       " '2376',\n",
       " '2386',\n",
       " '2390',\n",
       " '2403',\n",
       " '2404',\n",
       " '2405',\n",
       " '2406',\n",
       " '2407',\n",
       " '2409',\n",
       " '2420',\n",
       " '269003',\n",
       " '269004',\n",
       " '269005',\n",
       " '269006',\n",
       " '269007',\n",
       " '269008',\n",
       " '269009',\n",
       " '269010',\n",
       " '269011',\n",
       " '269012',\n",
       " '269013',\n",
       " '269014',\n",
       " '269015',\n",
       " '269016',\n",
       " '269017',\n",
       " '269018',\n",
       " '269019',\n",
       " '269020',\n",
       " '269021',\n",
       " '269022',\n",
       " '269023',\n",
       " '269024',\n",
       " '269025',\n",
       " '269026',\n",
       " '279006',\n",
       " '2986',\n",
       " '300001',\n",
       " '300006',\n",
       " '300007',\n",
       " '300008',\n",
       " '300009',\n",
       " '300011',\n",
       " '300012',\n",
       " '300013',\n",
       " '300014',\n",
       " '300017',\n",
       " '300021',\n",
       " '300035',\n",
       " '30006',\n",
       " '300068',\n",
       " '300070',\n",
       " '300074',\n",
       " '300076',\n",
       " '300078',\n",
       " '300092',\n",
       " '300131',\n",
       " '31',\n",
       " '3101',\n",
       " '312',\n",
       " '313',\n",
       " '314',\n",
       " '315',\n",
       " '316',\n",
       " '317',\n",
       " '319',\n",
       " '3193',\n",
       " '32',\n",
       " '320',\n",
       " '321',\n",
       " '33',\n",
       " '3301',\n",
       " '34',\n",
       " '3401',\n",
       " '3402',\n",
       " '37',\n",
       " '3731',\n",
       " '38',\n",
       " '3813',\n",
       " '39',\n",
       " '459154',\n",
       " '459155',\n",
       " '459156',\n",
       " '459158',\n",
       " '459159',\n",
       " '669001',\n",
       " '669002',\n",
       " '669003',\n",
       " '669004',\n",
       " '669005',\n",
       " '669006',\n",
       " '669007',\n",
       " '669008',\n",
       " '669009',\n",
       " '669021',\n",
       " '669024',\n",
       " '809001',\n",
       " '809002',\n",
       " '809003',\n",
       " '809004',\n",
       " '809007',\n",
       " '809008',\n",
       " '809009',\n",
       " '809010',\n",
       " '809013',\n",
       " '809017',\n",
       " '809018',\n",
       " '809019',\n",
       " '809020',\n",
       " '809021',\n",
       " '809022',\n",
       " '809023',\n",
       " '809024',\n",
       " '809025',\n",
       " '809026',\n",
       " '809027',\n",
       " '809029',\n",
       " '809031',\n",
       " '809032',\n",
       " '809033',\n",
       " '809034',\n",
       " '809037',\n",
       " '809038',\n",
       " '809039',\n",
       " '809040',\n",
       " '809041',\n",
       " '809042',\n",
       " '809043',\n",
       " '809044',\n",
       " '809045',\n",
       " '809046',\n",
       " '809047',\n",
       " '809048',\n",
       " '809049',\n",
       " '809050',\n",
       " '809051',\n",
       " '809052',\n",
       " '809053',\n",
       " '809054',\n",
       " '809055',\n",
       " '809056',\n",
       " '809057',\n",
       " '809058',\n",
       " '809059',\n",
       " '809060',\n",
       " '809061',\n",
       " '979001',\n",
       " '979002',\n",
       " '979003',\n",
       " '979004',\n",
       " '979005',\n",
       " '979006',\n",
       " '979007',\n",
       " '979008',\n",
       " '979009',\n",
       " '979010',\n",
       " '979011',\n",
       " '979012',\n",
       " '979013',\n",
       " '979014',\n",
       " '979015',\n",
       " '979016',\n",
       " '979017',\n",
       " '979018',\n",
       " '979019',\n",
       " '979020',\n",
       " '979021',\n",
       " '979022',\n",
       " '979023',\n",
       " '979024',\n",
       " '979025',\n",
       " '979026',\n",
       " '979027',\n",
       " 'A301',\n",
       " 'A701',\n",
       " 'A703',\n",
       " 'A705',\n",
       " 'A801',\n",
       " 'B701']"
      ]
     },
     "execution_count": 12,
     "metadata": {},
     "output_type": "execute_result"
    }
   ],
   "source": [
    "# 查找混合型字段\n",
    "# 如 >100次/分,窦性心动过速    ------简单混合型\n",
    "has_num = []\n",
    "p = re.compile('\\d+\\.?\\d*')\n",
    "r = train.shape[0]\n",
    "for c in train.columns:\n",
    "    nulls = train[c].isnull().sum()\n",
    "    a = train[c].apply(lambda x: 1 if len(p.findall(str(x))) != 0 else 0).sum()\n",
    "    if (a+nulls) > r*0.9:\n",
    "        has_num.append(c)\n",
    "has_num"
   ]
  },
  {
   "cell_type": "code",
   "execution_count": 13,
   "metadata": {},
   "outputs": [
    {
     "data": {
      "text/plain": [
       "251"
      ]
     },
     "execution_count": 13,
     "metadata": {},
     "output_type": "execute_result"
    }
   ],
   "source": [
    "len(has_num)"
   ]
  },
  {
   "cell_type": "code",
   "execution_count": 15,
   "metadata": {},
   "outputs": [
    {
     "name": "stdout",
     "output_type": "stream",
     "text": [
      "[nan 30.0 28.0 31.0 26.0 29.0 33.0 32.0 37.0 34.0 22.0 27.0 25.0 19.0 23.0\n",
      " 35.0 24.0 '27.0' '37.0' '30.0' '31.0' '34.0' '28.0' '26.0' '25.0' '29.0'\n",
      " '23.0' '28' '22.8' '53.0' '32.0' '24.0' '35.0' '26' '33.0' '29' '22.0'\n",
      " '心内各结构未见明显异常' 39.0 1.87 20.0 2.73 '20.0' '38.0' '25' '21.0' '19' '21'\n",
      " '29.1' '31.5' '24' '20' '16.0' 21.0 28.1 25.4 34.2 25.8 30.5 19.6 30.8\n",
      " 30.1 29.3 21.8 23.8 33.4 31.8 15.7 26.5 29.7 16.0 17.0 18.0 24.9 24.5 24.6\n",
      " 26.8 29.9 31.5 '26.2' '28.9' '26.9' '27' '36.0' '25.8' '27.8' '40.9'\n",
      " '29.3' 30.6 28.2 38.0 36.0 31.9 28.8 29.1 27.8 29.5 '18.0' '27.2' '19.0'\n",
      " 28.6 28.4 28.3 '29.7' '32' '28.1' '17.0' '18' '30' '23' 228.0 0.0 '10.0'\n",
      " '15.0' '33' '29.8' '25.7']\n",
      "117\n",
      "36457\n"
     ]
    }
   ],
   "source": [
    "print (train['0104'].unique())\n",
    "print (len(train['0104'].unique()))\n",
    "print (train['0104'].isnull().sum())"
   ]
  },
  {
   "cell_type": "code",
   "execution_count": null,
   "metadata": {
    "collapsed": true
   },
   "outputs": [],
   "source": [
    "train['10002']"
   ]
  },
  {
   "cell_type": "code",
   "execution_count": 7,
   "metadata": {
    "collapsed": true
   },
   "outputs": [],
   "source": [
    "main_cols = ['vid','收缩压', '舒张压', '血清甘油三酯', '血清高密度脂蛋白', '血清低密度脂蛋白']  # vid和指标字段\n",
    "digit_cols1 = ['1814', '190', '191', '2403', '2404', '2405']                                    # BMI指标和数字（含未查等特殊）\n",
    "digit_cols2 = ['10004','10002','1115','1117','1815','183','1850','192','193','2174','314']      # 纯数字型 （float+str）\n",
    "wenben_cols = ['0409', '0434', '0424', 'B701','A801','A705', '2302', '0114','3401','1001','0102','A202']  # 文本\n",
    "emu_cols = ['3190', '3191', '3192', '3195', '3196','3197','3430']                               # 枚举型\n",
    "num_and_wenben_cols = ['3193','1840','A701','A703']                                             # 数字型 （含>= 阴性等特殊）\n",
    "select_cols = digit_cols1 + wenben_cols + num_cols + main_cols + num_and_wenben_cols + emu_cols + digit_cols2"
   ]
  },
  {
   "cell_type": "markdown",
   "metadata": {},
   "source": [
    "3402基本无异常\n",
    "\n",
    "A601大部分详见纸质报告\n",
    "\n",
    "数字为主： A701、A703、3193、1840  \n",
    "\n",
    "性别标签: 0120 0121 0125 0130"
   ]
  },
  {
   "cell_type": "code",
   "execution_count": 8,
   "metadata": {
    "collapsed": true
   },
   "outputs": [],
   "source": [
    "train1 = train[[c for c in train.columns if c in select_cols]]\n",
    "test1 = test[[c for c in test.columns if c in select_cols]]"
   ]
  },
  {
   "cell_type": "code",
   "execution_count": 9,
   "metadata": {
    "collapsed": true
   },
   "outputs": [],
   "source": [
    "def numAndWenben(x):\n",
    "    x = str(x)\n",
    "    if x == 'nan' or x =='阴性' or x=='-' or x=='未做':\n",
    "        return np.nan\n",
    "    else:\n",
    "        p = re.compile('\\d+\\.?\\d*')\n",
    "        return p.findall(x)[0]\n",
    "\n",
    "def processNumAndWenben(train):\n",
    "    data = train.copy()\n",
    "    cols = ['3193','1840','A701','A703']\n",
    "    for c in cols:\n",
    "        data[c] = data[c].apply(numAndWenben).astype('float').fillna(0)\n",
    "    return data\n",
    "\n",
    "test2 = processNumAndWenben(test1)\n",
    "train2 = processNumAndWenben(train1)"
   ]
  },
  {
   "cell_type": "code",
   "execution_count": 10,
   "metadata": {
    "collapsed": true
   },
   "outputs": [],
   "source": [
    "def label_Bchao(x):\n",
    "    x = str(x)\n",
    "    if '绝经' in x:\n",
    "        return 0\n",
    "    if '高血压' in x:\n",
    "        return 1\n",
    "    if '脂肪肝' in x:\n",
    "        return 2\n",
    "    else:\n",
    "        return 3\n",
    "    \n",
    "def processBchao(data):\n",
    "    train = data.copy()\n",
    "    cols = ['0102','A202']\n",
    "    for col in cols:\n",
    "        train[col+'bchao'] = train[col].apply(label_Bchao)\n",
    "    return train.drop(cols, axis=1)\n",
    "\n",
    "test3 = processBchao(test2)\n",
    "train3 = processBchao(train2)"
   ]
  },
  {
   "cell_type": "code",
   "execution_count": 11,
   "metadata": {
    "collapsed": true
   },
   "outputs": [],
   "source": [
    "# 枚举型'3190', '3191', '3192', '3195', '3196','3197',3430\n",
    "def emuFeature(x):\n",
    "    good_labels = ['nan','阴性','未做','normal','正常']\n",
    "    nor_labels = ['+-','未见']\n",
    "    bad_labels = ['阳性','阳性(+)','阳性(1+)','阳性3+']\n",
    "    x = str(x)\n",
    "    if x in nor_labels or '+-' in x:\n",
    "        return 1\n",
    "    elif x in good_labels or '-' in x:\n",
    "        return 0\n",
    "    elif x in bad_labels or '+' in x:\n",
    "        return 2\n",
    "    else:\n",
    "        return 0\n",
    "    \n",
    "def processEmu(data):\n",
    "    train = data.copy()\n",
    "    for col in emu_cols:\n",
    "        train[col+'_emu'] =  train[col].apply(emuFeature)\n",
    "        \n",
    "    return train.drop(emu_cols, axis=1)\n",
    "\n",
    "test4 = processEmu(test3)\n",
    "train4 = processEmu(train3)"
   ]
  },
  {
   "cell_type": "code",
   "execution_count": 12,
   "metadata": {
    "collapsed": true
   },
   "outputs": [],
   "source": [
    "def xindiantu(x):\n",
    "    x = str(x)\n",
    "    if x == 'nan' or '正常心电图' in x:\n",
    "        return 0\n",
    "    return 1\n",
    "\n",
    "def process1001(data):\n",
    "    train = data.copy()\n",
    "    train['1001_xindiantu'] = train['1001'].apply(xindiantu)\n",
    "    return train.drop(['1001'], axis=1)\n",
    "\n",
    "test5 = process1001(test4)\n",
    "train5 = process1001(train4)"
   ]
  },
  {
   "cell_type": "markdown",
   "metadata": {},
   "source": [
    "枚举型变量：\n",
    "\n",
    "'3190', '3191', '3192', '3195', '3196','3197'   ：阴阳性，+-\n",
    "\n",
    "混合型变量：\n",
    "\n",
    " '0424','1840','3193'"
   ]
  },
  {
   "cell_type": "code",
   "execution_count": 13,
   "metadata": {
    "collapsed": true
   },
   "outputs": [],
   "source": [
    "def getFeature3401(x):\n",
    "    x = str(x)\n",
    "    if x == 'nan' or ('未见明显异常' in x and '检查' not in x and '复查'not in x):\n",
    "        return 0\n",
    "    elif '退变' in x :\n",
    "        return 2\n",
    "    elif '未见明显异常' in x and ('检查'  in x or '复查' in x):\n",
    "        return 1\n",
    "    else:\n",
    "        return 3\n",
    "\n",
    "def process3401(data):\n",
    "    train = data.copy()\n",
    "    train['3401_ct'] = train['3401'].apply(getFeature3401)\n",
    "    return train.drop(['3401'], axis=1)\n",
    "\n",
    "test6 = process3401(test5)\n",
    "train6 = process3401(train5)"
   ]
  },
  {
   "cell_type": "code",
   "execution_count": 14,
   "metadata": {
    "collapsed": true
   },
   "outputs": [],
   "source": [
    "def process409_434(data):\n",
    "    train = data.copy()\n",
    "    cols = []\n",
    "    for c in ['0409', '0434']:\n",
    "        train[c] = train[c].astype('str')\n",
    "        if c == '0434':\n",
    "            train[c+'_smoke'] = train[c].apply(lambda x: '吸烟' in  x).astype('int')\n",
    "            train[c+'_gaoxueya'] = train[c].apply(lambda x: '高血压' in  x or '血压偏高' in x).astype('int')\n",
    "            train[c+'_gaoxuezhi'] = train[c].apply(lambda x: '血脂偏高' in  x ).astype('int')\n",
    "            train[c+'_tangniaobing'] = train[c].apply(lambda x: '糖尿病' in  x ).astype('int')\n",
    "            train[c+'_niaosuan'] = train[c].apply(lambda x: '尿酸偏高' in  x ).astype('int')\n",
    "            train[c+'_gan'] = train[c].apply(lambda x: '肝' in  x).astype('int')\n",
    "            train[c+'_zhifangan'] = train[c].apply(lambda x: '脂肪肝' in  x).astype('int')\n",
    "            train[c+'_feipang'] = train[c].apply(lambda x: '肥胖' in  x).astype('int')\n",
    "            train[c+'_heart'] = train[c].apply(lambda x: '心' in  x or '冠状动脉' in x).astype('int')\n",
    "            train[c+'_pregnancy'] = train[c].apply(lambda x: '孕' in  x and '宫外孕术后' not in x).astype('int')\n",
    "            train[c+'_yanzheng'] = train[c].apply(lambda x: '炎' in  x).astype('int')\n",
    "            train[c+'_jzxkangjin'] = train[c].apply(lambda x: '甲亢' in  x or '甲状腺功能亢进'in x).astype('int')\n",
    "            train[c+'_jzxjt'] = train[c].apply(lambda x: '甲状腺功能减退' in  x).astype('int')\n",
    "        else:\n",
    "            train[c+'_free'] = train[c].apply(lambda x: '未发现明显异常' in  x or '未见异常' in x).astype('int')\n",
    "            train[c+'_yanzheng'] = train[c].apply(lambda x: '炎' in  x).astype('int')\n",
    "            train[c+'_niaosuan'] = train[c].apply(lambda x: '高尿酸' in  x ).astype('int')\n",
    "            train[c+'_gaoxuezhi'] = train[c].apply(lambda x: '血脂偏高' in  x ).astype('int')\n",
    "            train[c+'_gaoxuetang'] = train[c].apply(lambda x: '血糖偏高' in  x ).astype('int')\n",
    "            train[c+'_gaoxueya'] = train[c].apply(lambda x: '高血压' in  x or '血压偏高' in x).astype('int')\n",
    "            train[c+'_gaoxuezhi'] = train[c].apply(lambda x: '血脂偏高' in  x or '高血脂' in x).astype('int')\n",
    "            train[c+'_zhifangan'] = train[c].apply(lambda x: '脂肪肝' in  x).astype('int')\n",
    "            train[c+'_beatslow'] = train[c].apply(lambda x: '心动过缓' in  x).astype('int')\n",
    "            train[c+'_beatfast'] = train[c].apply(lambda x: '心动过速' in  x).astype('int')\n",
    "            train[c+'_beatunregular'] = train[c].apply(lambda x: '心律不齐' in  x).astype('int')\n",
    "            train[c+'_beatfre'] = train[c].apply(lambda x: '偶发早搏' in  x).astype('int')\n",
    "            train[c+'_heartok'] = train[c].apply(lambda x: '心率正常' in  x).astype('int')\n",
    "            train[c+'_heartnoise'] = train[c].apply(lambda x: '心脏杂音' in  x or '心音' in x).astype('int')\n",
    "            train[c+'_tangniaobing'] = train[c].apply(lambda x: '糖尿病' in  x ).astype('int')\n",
    "            train[c+'_gan'] = train[c].apply(lambda x: '肝' in  x).astype('int')\n",
    "            train[c+'_heart'] = train[c].apply(lambda x: '心肌' in  x or '心脏' in x).astype('int')\n",
    "            train[c+'_jzxkangjin'] = train[c].apply(lambda x: '甲亢' in  x or '甲状腺功能亢进'in x).astype('int')\n",
    "            train[c+'_jzxjt'] = train[c].apply(lambda x: '甲状腺功能减退' in  x).astype('int')\n",
    "            train[c+'_tangniaobing'] = train[c].apply(lambda x: '糖尿病' in  x ).astype('int')\n",
    "\n",
    "    return train.drop(['0409','0434'], axis=1)\n",
    "\n",
    "test7 = process409_434(test6)\n",
    "train7 = process409_434(train6)"
   ]
  },
  {
   "cell_type": "code",
   "execution_count": 15,
   "metadata": {
    "collapsed": true
   },
   "outputs": [],
   "source": [
    "def get_heart_rate(x):\n",
    "    import re\n",
    "    result = re.findall(r\"\\d+\",x)\n",
    "    if result != []:\n",
    "        return result[0]\n",
    "    else :\n",
    "        return 0\n",
    "\n",
    "def is_heart_slow(x):\n",
    "    return ('过缓' in x) or ('<' in x )or (int(get_heart_rate(x))<60 and int(get_heart_rate(x))>1)\n",
    "\n",
    "def is_heart_fast(x):\n",
    "    return ('过速' in x) or ('>' in x )or (int(get_heart_rate(x))>100 ) \n",
    "\n",
    "def is_heart_normal(x):\n",
    "    return (int(get_heart_rate(x))>60 and int(get_heart_rate(x))<100) or ('正常' in x) or ('未见' in x)\n",
    "\n",
    "def process424(data):\n",
    "    train = data.copy()\n",
    "    train['0424'] = train['0424'].astype('str')\n",
    "    train['424_heart_rate'] = (train['0424'].apply(lambda x: get_heart_rate(x))).astype('int')\n",
    "    train['424_heart_slow'] = train['0424'].apply(lambda x: is_heart_slow(x)).astype('int')\n",
    "    train['424_heart_fast'] = train['0424'].apply(lambda x: is_heart_fast(x)).astype('int')\n",
    "    train['424_heart_normal'] = train['0424'].apply(lambda x: is_heart_normal(x)).astype('int')\n",
    "\n",
    "    return train.drop(['0424'], axis=1)\n",
    "\n",
    "test8 = process424(test7)\n",
    "train8 = process424(train7)"
   ]
  },
  {
   "cell_type": "code",
   "execution_count": 16,
   "metadata": {},
   "outputs": [
    {
     "data": {
      "text/plain": [
       "(9538, 169)"
      ]
     },
     "execution_count": 16,
     "metadata": {},
     "output_type": "execute_result"
    }
   ],
   "source": [
    "test8.shape"
   ]
  },
  {
   "cell_type": "code",
   "execution_count": 17,
   "metadata": {
    "collapsed": true
   },
   "outputs": [],
   "source": [
    "def process114_2302(data):\n",
    "    train = data.copy()\n",
    "    train['0114_normal'] = (train['0114'].fillna(-1)).apply(lambda x: int('胆囊大小、形态正常' in  x) if x!= -1 else x)\n",
    "    train = train.drop(['0114'], axis=1)\n",
    "\n",
    "    train['2302_jiankang'] = (train['2302'].fillna(-1)).apply(lambda x: int('健康' in  x) if x!= -1 else x)\n",
    "    train = train.drop(['2302'], axis=1)\n",
    "    return train\n",
    "\n",
    "test9 = process114_2302(test8)\n",
    "train9 = process114_2302(train8)"
   ]
  },
  {
   "cell_type": "code",
   "execution_count": 18,
   "metadata": {
    "collapsed": true
   },
   "outputs": [],
   "source": [
    "def processAB(data):\n",
    "    train = data.copy()\n",
    "    train['A705_label'] = (train['A705'].fillna(-1)).apply(lambda x: int('数字化肝超未发现明显异常' in  x) if x != -1 else x)\n",
    "    train['A801_label'] = (train['A801'].fillna(-1)).apply(lambda x: int('脑血流图未发现明显异常' in  x) if x != -1 else x)\n",
    "    train['B701_label'] = (train['B701'].fillna(-1)).apply(lambda x: int('糖尿病或糖尿病前期风险较小' in  x) if x != -1 else x)\n",
    "    train = train.drop(['B701','A801','A705'], axis=1)\n",
    "    return train\n",
    "\n",
    "test10 = processAB(test9)\n",
    "train10 = processAB(train9)"
   ]
  },
  {
   "cell_type": "markdown",
   "metadata": {},
   "source": [
    "纯数字table_id：\n",
    "1814\n",
    "190\n",
    "191\n",
    "2403\n",
    "2404\n",
    "2405\n",
    "\n",
    "'10002','10004','1115', '1117','1815','183','1840','1850'', '192', '193', '2174',  '314'"
   ]
  },
  {
   "cell_type": "code",
   "execution_count": 19,
   "metadata": {
    "collapsed": true
   },
   "outputs": [],
   "source": [
    "def modifyYiChang(x):\n",
    "    if ';' in str(x):\n",
    "        spices = x.split(';')\n",
    "        if spices.count('nan') == 2 or spices.count('未查') == 2 or spices.count('弃查') == 2:\n",
    "            return np.nan\n",
    "        elif spices.count('nan') == 1:\n",
    "            return spices[1-spices.index('nan')]\n",
    "        elif spices.count('未查') == 1:\n",
    "            return spices[1-spices.index('未查')]\n",
    "        elif spices.count('弃查') == 1:\n",
    "            return spices[1-spices.index('弃查')]\n",
    "        else :\n",
    "            return spices[0]\n",
    "    elif '查' in str(x):\n",
    "        return np.nan\n",
    "    return x\n",
    "\n",
    "def process4(data):\n",
    "    train = data.copy()\n",
    "    for col in digit_cols1:\n",
    "        train[col] = train[col].apply(modifyYiChang).astype('float').fillna(0)\n",
    "    return train\n",
    "\n",
    "test11 = process4(test10)\n",
    "train11 = process4(train10)"
   ]
  },
  {
   "cell_type": "code",
   "execution_count": 20,
   "metadata": {
    "collapsed": true
   },
   "outputs": [],
   "source": [
    "def processPureDigit(data):\n",
    "    train = data.copy()\n",
    "    for col in num_cols:\n",
    "        train[col] = train[col].apply(modifyYiChang).astype('float').fillna(0)\n",
    "    return train\n",
    "\n",
    "test12 = processPureDigit(test11)\n",
    "train12 = processPureDigit(train11)"
   ]
  },
  {
   "cell_type": "code",
   "execution_count": 21,
   "metadata": {
    "collapsed": true
   },
   "outputs": [],
   "source": [
    "def searchDigitRe(x):\n",
    "    x = str(x)\n",
    "    if x == 'nan':\n",
    "        return 0\n",
    "    else:\n",
    "        try:\n",
    "            p = re.compile('\\d+\\.?\\d*')\n",
    "            return p.findall(x)[0]\n",
    "        except:\n",
    "            return 0\n",
    "\n",
    "def processDigit2(data):\n",
    "    train = data.copy()\n",
    "    for col in digit_cols2:\n",
    "        train[col] = train[col].apply(searchDigitRe).astype('float').fillna(0)\n",
    "    return train\n",
    "\n",
    "test_end = processDigit2(test12)\n",
    "train_end = processDigit2(train12)"
   ]
  },
  {
   "cell_type": "code",
   "execution_count": 22,
   "metadata": {
    "collapsed": true
   },
   "outputs": [],
   "source": [
    "train_end.to_csv('../Output/0504/train_data_tezheng2.csv', index=False, encoding='utf-8')\n",
    "test_end.to_csv('../Output/0504/test_data_tezheng2.csv', index=False, encoding='utf-8')"
   ]
  },
  {
   "cell_type": "code",
   "execution_count": 23,
   "metadata": {},
   "outputs": [
    {
     "data": {
      "text/plain": [
       "(38192, 169)"
      ]
     },
     "execution_count": 23,
     "metadata": {},
     "output_type": "execute_result"
    }
   ],
   "source": [
    "train_end.shape"
   ]
  },
  {
   "cell_type": "markdown",
   "metadata": {},
   "source": [
    "————————————————————————————————————————————————————————————"
   ]
  },
  {
   "cell_type": "code",
   "execution_count": 1,
   "metadata": {
    "collapsed": true
   },
   "outputs": [],
   "source": [
    "import numpy as np\n",
    "import pandas as pd\n",
    "import warnings\n",
    "\n",
    "warnings.filterwarnings(\"ignore\")\n",
    "\n",
    "\n",
    "train1 = pd.read_csv('../Output/0504/train_data_tezheng2.csv', encoding='utf-8')\n",
    "test1 = pd.read_csv('../Output/0504/test_data_tezheng2.csv', encoding='utf-8')"
   ]
  },
  {
   "cell_type": "code",
   "execution_count": 24,
   "metadata": {
    "collapsed": true
   },
   "outputs": [],
   "source": [
    "train1 = train_end\n",
    "test1 = test_end\n"
   ]
  },
  {
   "cell_type": "code",
   "execution_count": 2,
   "metadata": {},
   "outputs": [
    {
     "data": {
      "text/plain": [
       "(38192, 169)"
      ]
     },
     "execution_count": 2,
     "metadata": {},
     "output_type": "execute_result"
    }
   ],
   "source": [
    "train1.shape"
   ]
  },
  {
   "cell_type": "code",
   "execution_count": 25,
   "metadata": {
    "collapsed": true
   },
   "outputs": [],
   "source": [
    "# 比赛要求自定义log_loss\n",
    "def cal_logloss(label, pre_label):\n",
    "    rows = len(label)\n",
    "    log_sum = sum((np.log(pre_label+1) - np.log(label+1)) ** 2)\n",
    "    return log_sum / rows\n"
   ]
  },
  {
   "cell_type": "code",
   "execution_count": 26,
   "metadata": {
    "collapsed": true
   },
   "outputs": [],
   "source": [
    "import lightgbm as lgb\n",
    "from sklearn.model_selection import train_test_split\n",
    "from sklearn.preprocessing import MinMaxScaler"
   ]
  },
  {
   "cell_type": "code",
   "execution_count": 27,
   "metadata": {
    "collapsed": true
   },
   "outputs": [],
   "source": [
    "digit_cols = num_cols + ['424_heart_rate','1814', '190', '191', '2403', '2404', '2405'] + digit_cols2 + num_and_wenben_cols"
   ]
  },
  {
   "cell_type": "code",
   "execution_count": 28,
   "metadata": {
    "collapsed": true
   },
   "outputs": [],
   "source": [
    "# 归一化\n",
    "rows = train1.shape[0]\n",
    "data = train1.append(test1)\n",
    "data[['424_heart_rate','1814', '190', '191', '2403', '2404', '2405']] = data[['424_heart_rate','1814', '190', '191', '2403', '2404', '2405']].fillna(0)\n",
    "for c in digit_cols:\n",
    "    data[c] = MinMaxScaler().fit_transform(data[c].values.reshape(-1, 1))"
   ]
  },
  {
   "cell_type": "code",
   "execution_count": 29,
   "metadata": {},
   "outputs": [
    {
     "data": {
      "text/plain": [
       "(38192, 169)"
      ]
     },
     "execution_count": 29,
     "metadata": {},
     "output_type": "execute_result"
    }
   ],
   "source": [
    "train1 = data[:rows]\n",
    "test1 = data[rows:]\n",
    "train1.shape"
   ]
  },
  {
   "cell_type": "code",
   "execution_count": 30,
   "metadata": {
    "collapsed": true
   },
   "outputs": [],
   "source": [
    "shousuoya_label = train1.pop('收缩压')\n",
    "shuzhangya_label = train1.pop('舒张压')\n",
    "highzhidanbai_label = train1.pop('血清高密度脂蛋白')\n",
    "ganyou_label = train1.pop('血清甘油三酯')\n",
    "lowzhidanbai_label = train1.pop('血清低密度脂蛋白')\n",
    "\n",
    "train1 = train1.drop('vid', axis =1)"
   ]
  },
  {
   "cell_type": "code",
   "execution_count": 31,
   "metadata": {
    "collapsed": true
   },
   "outputs": [],
   "source": [
    "test1.pop('收缩压')\n",
    "test1.pop('舒张压')\n",
    "test1.pop('血清高密度脂蛋白')\n",
    "test1.pop('血清甘油三酯')\n",
    "test1.pop('血清低密度脂蛋白')\n",
    "\n",
    "test1_vid = test1.pop('vid')"
   ]
  },
  {
   "cell_type": "code",
   "execution_count": 32,
   "metadata": {
    "collapsed": true
   },
   "outputs": [],
   "source": [
    "train_table = {'收缩压':shousuoya_label,\n",
    "              '舒张压':shuzhangya_label,\n",
    "              '血清甘油三酯':ganyou_label,\n",
    "              '血清高密度脂蛋白':highzhidanbai_label,\n",
    "              '血清低密度脂蛋白':lowzhidanbai_label}"
   ]
  },
  {
   "cell_type": "code",
   "execution_count": 33,
   "metadata": {
    "collapsed": true
   },
   "outputs": [],
   "source": [
    "LGBM = lgb.LGBMRegressor(objective='regression', \n",
    "                         max_depth=7, \n",
    "                         n_estimators=600, \n",
    "                         learning_rate=0.01, \n",
    "                         num_leaves=63, \n",
    "                         min_samples_split=2)"
   ]
  },
  {
   "cell_type": "code",
   "execution_count": null,
   "metadata": {
    "collapsed": true,
    "scrolled": true
   },
   "outputs": [],
   "source": [
    "train1.columns"
   ]
  },
  {
   "cell_type": "code",
   "execution_count": 34,
   "metadata": {},
   "outputs": [
    {
     "name": "stdout",
     "output_type": "stream",
     "text": [
      "0.0147122887927\n",
      "0.0184465667067\n",
      "0.0846061387269\n",
      "0.0140281910554\n",
      "0.0376471606431\n",
      "0.033888069185\n"
     ]
    }
   ],
   "source": [
    "drop_cols = []\n",
    "log_score = 0\n",
    "train2 = train1[[c for c in train1.columns if c not in drop_cols]]\n",
    "for key in train_table.keys():\n",
    "    X_train,X_test,y_train,y_test = train_test_split(train2, train_table[key], test_size=0.05, random_state=42)\n",
    "    LGBM.fit(X_train, y_train)\n",
    "    preLabel = LGBM.predict(X_test)\n",
    "    log_cur = cal_logloss(y_test, preLabel)\n",
    "    log_score += log_cur\n",
    "    print (log_cur)\n",
    "print (log_score / 5)"
   ]
  },
  {
   "cell_type": "code",
   "execution_count": 35,
   "metadata": {
    "collapsed": true
   },
   "outputs": [],
   "source": [
    "test_label = {}\n",
    "for key in train_table.keys():\n",
    "    LGBM.fit(train1, train_table[key])\n",
    "    preLabel = LGBM.predict(test1)\n",
    "    test_label[key] = preLabel\n"
   ]
  },
  {
   "cell_type": "code",
   "execution_count": 36,
   "metadata": {
    "collapsed": true
   },
   "outputs": [],
   "source": [
    "def generateResult(vid, shousuoya_label, shuzhangya_label, ganyou_label, highzhidanbai_label, lowzhidanbai_label, filename='../Output/result0504.csv'):\n",
    "    result = pd.DataFrame({'vid':vid})\n",
    "    result['收缩压'] = shousuoya_label\n",
    "    result['舒张压'] = shuzhangya_label\n",
    "    result['血清甘油三酯'] = ganyou_label\n",
    "    result['血清高密度脂蛋白'] = highzhidanbai_label\n",
    "    result['血清低密度脂蛋白'] = lowzhidanbai_label\n",
    "    result.to_csv(filename, index=False, header=False ,line_terminator='\\r')"
   ]
  },
  {
   "cell_type": "code",
   "execution_count": 37,
   "metadata": {
    "collapsed": true
   },
   "outputs": [],
   "source": [
    "generateResult(test1_vid, test_label['收缩压'], test_label['舒张压'], \n",
    "               test_label['血清甘油三酯'], test_label['血清高密度脂蛋白'], \n",
    "               test_label['血清低密度脂蛋白'])"
   ]
  },
  {
   "cell_type": "code",
   "execution_count": null,
   "metadata": {
    "collapsed": true
   },
   "outputs": [],
   "source": []
  }
 ],
 "metadata": {
  "kernelspec": {
   "display_name": "Python 3",
   "language": "python",
   "name": "python3"
  },
  "language_info": {
   "codemirror_mode": {
    "name": "ipython",
    "version": 3
   },
   "file_extension": ".py",
   "mimetype": "text/x-python",
   "name": "python",
   "nbconvert_exporter": "python",
   "pygments_lexer": "ipython3",
   "version": "3.6.3"
  }
 },
 "nbformat": 4,
 "nbformat_minor": 2
}
